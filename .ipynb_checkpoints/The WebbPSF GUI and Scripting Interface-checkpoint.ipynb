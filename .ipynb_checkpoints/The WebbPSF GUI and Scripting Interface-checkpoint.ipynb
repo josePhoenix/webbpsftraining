{
 "metadata": {
  "name": "",
  "signature": "sha256:11419c8a0011522adb6f14901868fd033d9eee206553c80eec5c4e24482c0bb3"
 },
 "nbformat": 3,
 "nbformat_minor": 0,
 "worksheets": [
  {
   "cells": [
    {
     "cell_type": "code",
     "collapsed": false,
     "input": [
      "%pylab inline"
     ],
     "language": "python",
     "metadata": {},
     "outputs": [
      {
       "output_type": "stream",
       "stream": "stdout",
       "text": [
        "Populating the interactive namespace from numpy and matplotlib\n"
       ]
      }
     ],
     "prompt_number": 7
    },
    {
     "cell_type": "markdown",
     "metadata": {},
     "source": [
      "> # Explore the functionality of the WebbPSF GUI."
     ]
    },
    {
     "cell_type": "markdown",
     "metadata": {},
     "source": [
      "The configurable inputs to WebbPSF divide into three categories: attributes of the simulated source, configuration of the instrument, and variables controlling how the calculation is carried out (e.g. precision).\n",
      "\n",
      "![WebbPSF GUI](./webbpsfgui.png)\n",
      "\n",
      "## Source Properties\n",
      "\n",
      "If you have pySynPhot and the associated model sets for stellar spectra, you'll have a drop-down list of stellar spectral types (e.g. \"G0V\") and other options (e.g. \"Power Law F_nu ~ nu^(3)\").\n",
      "\n",
      "You can offset the point source from the center of the field to observe how the PSF varies across the image plane. This offset is provided in polar coordinates under \"Source Position\". The \"r\" variable controls how far in arcseconds to offset the source, and \"PA\" is a direction in degrees counter-clockwise from the instrument's +y direction in the science frame."
     ]
    },
    {
     "cell_type": "markdown",
     "metadata": {},
     "source": [
      "## Instrument Config\n",
      "\n",
      "For all the instruments except FGS, there are four common configurable parameters:\n",
      "\n",
      "  - **Filter**: Apply a filter to the input spectrum using measured transmission curves\n",
      "  - **Coron** (Coronagraph Stop): Select a stop that will obscure the center of the star\n",
      "  - **Pupil**: Select a pupil mask that will eliminate the bulk of the starlight diffracted by the stop\n",
      "  - **Pupil shift**: Move the mask by a percentage of its width and height in the pupil plane\n",
      "  - **OPD File**: Optical Path Difference maps computed for particular combinations of telescope configuration and instruments (A 'Zero OPD' option is available to simulate a perfectly aligned OTE). All data is simulated, with several options for RMS WFE and extensions on those files showing multiple possible OPD maps resulting in the same RMS WFE\n",
      "\n",
      "NIRCam additionally lets you select the detector module (A or B). NIRSpec and MIRI show you the corresponding IFU wavelength in this panel.\n",
      "\n",
      "The FGS simulated instrument only has two settings: filter, and OPD File. Filter is limited to 'FGS', and the OPD file works as described above."
     ]
    },
    {
     "cell_type": "markdown",
     "metadata": {},
     "source": [
      "## Calculation Options\n",
      "\n",
      "The calculation options control the output and the intermediate steps of the computation.\n",
      "\n",
      "  - Field of View: size in arcseconds (limited to \"square\" FoV, default 5\" on both sides)\n",
      "  - Output Oversampling: times finer than instrument pixels (shows additional detail in PSF, suitable for simulating sub-pixel shifts on the detector)\n",
      "  - Coronagraph FFT Oversampling: times finer than Nyquist (the Nyquist cutoff in discrete signal processing is where you can ensure you are sampling finely enough to faithfully reconstruct all the frequencies present in your input signal)\n",
      "  - \\# of wavelengths: default is to auto-select wavelengths. How? Each filter has a default number of wavelengths suggested by the developer in the `filters.txt` table of the WebbPSF supporting data.\n",
      "  \n",
      "The required number of wavelengths and oversampling factor to achieve SNR of 100 for a pixel at a specified radius from the center of the PSF have been pre-computed as described in [sampling.rst](http://www.stsci.edu/~mperrin/software/webbpsf/sampling.html)\n",
      "\n",
      "> Create PSFs for the different instruments.\n",
      "\n",
      "## NIRCam with circular coronagraph stop\n",
      "\n",
      "<ul style=\"padding:0\">\n",
      "<li style=\"display: inline-block; width:33%\"><img style=\"max-width: 100%\" src=\"./nircam_config.png\" alt=\"Config options for example NIRCam PSF\"></li>\n",
      "<li style=\"display: inline-block; width:33%\"><img style=\"max-width: 100%\" src=\"./nircam_optics.png\" alt=\"Visualizing the optical path for NIRCam + coronagraphy\"></li>\n",
      "<li style=\"display: inline-block; width:33%\"><img style=\"max-width: 100%\" src=\"./nircam_propagated.png\" alt=\"Simulated PSF for NIRCam\"></li>\n",
      "</ul>\n",
      "\n",
      "## NIRSpec with 3 microshutters open\n",
      "\n",
      "<ul style=\"padding:0\">\n",
      "<li style=\"display: inline-block; width:33%\"><img style=\"max-width: 100%\" src=\"./nirspec_config.png\" alt=\"Config options for example NIRSpec PSF\"></li>\n",
      "<li style=\"display: inline-block; width:33%\"><img style=\"max-width: 100%\" src=\"./nirspec_optics.png\" alt=\"Visualizing the optical path for NIRSpec\"></li>\n",
      "<li style=\"display: inline-block; width:33%\"><img style=\"max-width: 100%\" src=\"./nirspec_propagated.png\" alt=\"Simulated PSF for NIRSpec\"></li>\n",
      "</ul>\n",
      "\n",
      "## NIRISS\n",
      "\n",
      "*Note: as of this writing, coronograph and pupil masks are not working correctly for NIRISS...*\n",
      "\n",
      "<ul style=\"padding:0\">\n",
      "<li style=\"display: inline-block; width:33%\"><img style=\"max-width: 100%\" src=\"./niriss_config.png\" alt=\"Config options for example NIRISS PSF\"></li>\n",
      "<li style=\"display: inline-block; width:33%\"><img style=\"max-width: 100%\" src=\"./niriss_optics.png\" alt=\"Visualizing the optical path for NIRISS\"></li>\n",
      "<li style=\"display: inline-block; width:33%\"><img style=\"max-width: 100%\" src=\"./niriss_propagated.png\" alt=\"Simulated PSF for NIRISS\"></li>\n",
      "</ul>\n",
      "\n",
      "## MIRI with FQPM coronograph\n",
      "\n",
      "<ul style=\"padding:0\">\n",
      "<li style=\"display: inline-block; width:33%\"><img style=\"max-width: 100%\" src=\"./miri_config.png\" alt=\"Config options for example NIRISS PSF\"></li>\n",
      "<li style=\"display: inline-block; width:33%\"><img style=\"max-width: 100%\" src=\"./miri_optics.png\" alt=\"Visualizing the optical path for MIRI\"></li>\n",
      "<li style=\"display: inline-block; width:33%\"><img style=\"max-width: 100%\" src=\"./miri_propagated.png\" alt=\"Simulated PSF for MIRI\"></li>\n",
      "</ul>\n",
      "\n",
      "## FGS\n",
      "\n",
      "\n",
      "<ul style=\"padding:0\">\n",
      "<li style=\"display: inline-block; width:33%\"><img style=\"max-width: 100%\" src=\"./fgs_config.png\" alt=\"Config options for example FGS PSF\"></li>\n",
      "<li style=\"display: inline-block; width:33%\"><img style=\"max-width: 100%\" src=\"./fgs_optics.png\" alt=\"Visualizing the optical path for the FGS\"></li>\n",
      "<li style=\"display: inline-block; width:33%\"><img style=\"max-width: 100%\" src=\"./fgs_propagated.png\" alt=\"Simulated PSF for the FGS\"></li>\n",
      "</ul>"
     ]
    },
    {
     "cell_type": "markdown",
     "metadata": {},
     "source": [
      "> # How do you think WebbPSF creates PSFs?\n",
      "\n",
      "WebbPSF uses [Poppy](http://www.stsci.edu/~mperrin/software/poppy/overview.html) to simulate physical optics in the Fraunhofer domain. This means that transformations to and from the pupil planes to intermediate image planes is accomplished by means of Fourier-transforming the aperture or image in two dimensions.\n",
      "\n",
      "I'm not sure how some of the components that I'm unfamiliar with are simulated. Four-quadrant phase masks, I suspect, introduce different phase values in four quadrants of an intermediate pupil plane"
     ]
    },
    {
     "cell_type": "markdown",
     "metadata": {},
     "source": [
      "> # Recreate one of the PSFs from the GUI using the scripting interface to WebbPSF."
     ]
    },
    {
     "cell_type": "markdown",
     "metadata": {},
     "source": [
      "For reference, here are the GUI controls for the PSF we're trying to generate through the scripting interface.\n",
      "\n",
      "<img style=\"max-width: 100%\" src=\"./nircam_config.png\" alt=\"Config options for example NIRCam PSF\">"
     ]
    },
    {
     "cell_type": "code",
     "collapsed": false,
     "input": [
      "import webbpsf\n",
      "import pyfits"
     ],
     "language": "python",
     "metadata": {},
     "outputs": [
      {
       "output_type": "stream",
       "stream": "stdout",
       "text": [
        "WebbPSF log messages of level INFO and above will be shown.\n",
        "WebbPSF log outputs will be directed to the screen.\n"
       ]
      }
     ],
     "prompt_number": 1
    },
    {
     "cell_type": "code",
     "collapsed": false,
     "input": [
      "nircam = webbpsf.NIRCam()"
     ],
     "language": "python",
     "metadata": {},
     "outputs": [],
     "prompt_number": 2
    },
    {
     "cell_type": "code",
     "collapsed": false,
     "input": [
      "nircam.filter = 'F200W'\n",
      "nircam.pupil_mask = 'CIRCLYOT'\n",
      "nircam.image_mask = 'MASK335R' # corresponds to \"Coron\" in the GUI\n",
      "\n",
      "# undocumented (?) way to specify extension\n",
      "nircam.pupilopd = ('/Users/jlong/dev/webbpsf-data/NIRCam/OPD/OPD_RevV_nircam_136.fits', 5)"
     ],
     "language": "python",
     "metadata": {},
     "outputs": [],
     "prompt_number": 3
    },
    {
     "cell_type": "code",
     "collapsed": false,
     "input": [
      "source_spectrum = webbpsf.specFromSpectralType('G0V')"
     ],
     "language": "python",
     "metadata": {},
     "outputs": [],
     "prompt_number": 4
    },
    {
     "cell_type": "code",
     "collapsed": false,
     "input": [
      "psf = nircam.calcPSF(oversample=2, source=source_spectrum)"
     ],
     "language": "python",
     "metadata": {},
     "outputs": [
      {
       "output_type": "stream",
       "stream": "stderr",
       "text": [
        "webbpsf   : INFO     Setting up PSF calculation for NIRCam\n"
       ]
      },
      {
       "output_type": "stream",
       "stream": "stderr",
       "text": [
        "webbpsf   : INFO     PSF calc using fov_arcsec = 5.000000, oversample = 2, nlambda = 21\n"
       ]
      },
      {
       "output_type": "stream",
       "stream": "stderr",
       "text": [
        "poppy     : INFO     Computing wavelength weights using synthetic photometry for F200W...\n"
       ]
      },
      {
       "output_type": "stream",
       "stream": "stderr",
       "text": [
        "webbpsf   : WARNING  Filter F200W not supported in available pysynphot/CDBS. Falling back to local filter transmission files\n"
       ]
      },
      {
       "output_type": "stream",
       "stream": "stderr",
       "text": [
        "webbpsf   : WARNING  These may be less accurate.\n"
       ]
      },
      {
       "output_type": "stream",
       "stream": "stderr",
       "text": [
        "webbpsf   : WARNING  The supplied file, /Users/jlong/dev/webbpsf-data/NIRCam//filters/F200W_throughput.fits, does not have a WAVEUNIT keyword. Assuming it is Angstroms.\n"
       ]
      },
      {
       "output_type": "stream",
       "stream": "stderr",
       "text": [
        "webbpsf   : INFO     Creating optical system model:\n"
       ]
      },
      {
       "output_type": "stream",
       "stream": "stderr",
       "text": [
        "poppy     : INFO     Initialized OpticalSystem: JWST+NIRCam\n"
       ]
      },
      {
       "output_type": "stream",
       "stream": "stderr",
       "text": [
        "poppy     : INFO     JWST Pupil: Loaded amplitude transmission from /Users/jlong/dev/webbpsf-data/pupil_RevV.fits\n"
       ]
      },
      {
       "output_type": "stream",
       "stream": "stderr",
       "text": [
        "poppy     : INFO     JWST Pupil: Loaded OPD from  /Users/jlong/dev/webbpsf-data/NIRCam/OPD/OPD_RevV_nircam_136.fits, plane 5\n"
       ]
      },
      {
       "output_type": "stream",
       "stream": "stderr",
       "text": [
        "poppy     : INFO     Added pupil plane: JWST Pupil\n"
       ]
      },
      {
       "output_type": "stream",
       "stream": "stderr",
       "text": [
        "poppy     : INFO     Added image plane: MASK335R\n"
       ]
      },
      {
       "output_type": "stream",
       "stream": "stderr",
       "text": [
        "poppy     : INFO     CIRCLYOT: Loaded amplitude transmission from /Users/jlong/dev/webbpsf-data/NIRCam//optics/NIRCam_Lyot_Somb.fits\n"
       ]
      },
      {
       "output_type": "stream",
       "stream": "stderr",
       "text": [
        "poppy     : INFO     Added pupil plane: CIRCLYOT\n"
       ]
      },
      {
       "output_type": "stream",
       "stream": "stderr",
       "text": [
        "poppy     : INFO     Added detector: NIRCam detector, with pixelscale=0.031700 arcsec/pixel and oversampling=2\n"
       ]
      },
      {
       "output_type": "stream",
       "stream": "stderr",
       "text": [
        "webbpsf   : INFO     Trying to invoke switch to Semi-Analytic Coronagraphy algorithm\n"
       ]
      },
      {
       "output_type": "stream",
       "stream": "stderr",
       "text": [
        "webbpsf   : INFO     SAC OK\n"
       ]
      },
      {
       "output_type": "stream",
       "stream": "stderr",
       "text": [
        "poppy     : INFO     Calculating PSF with 21 wavelengths\n"
       ]
      },
      {
       "output_type": "stream",
       "stream": "stderr",
       "text": [
        "poppy     : INFO      Propagating wavelength = 1.7661e-06 meters\n"
       ]
      },
      {
       "output_type": "stream",
       "stream": "stderr",
       "text": [
        "poppy     : INFO      Propagating wavelength = 1.78829e-06 meters\n"
       ]
      },
      {
       "output_type": "stream",
       "stream": "stderr",
       "text": [
        "poppy     : INFO      Propagating wavelength = 1.81048e-06 meters\n"
       ]
      },
      {
       "output_type": "stream",
       "stream": "stderr",
       "text": [
        "poppy     : INFO      Propagating wavelength = 1.83267e-06 meters\n"
       ]
      },
      {
       "output_type": "stream",
       "stream": "stderr",
       "text": [
        "poppy     : INFO      Propagating wavelength = 1.85486e-06 meters\n"
       ]
      },
      {
       "output_type": "stream",
       "stream": "stderr",
       "text": [
        "poppy     : INFO      Propagating wavelength = 1.87705e-06 meters\n"
       ]
      },
      {
       "output_type": "stream",
       "stream": "stderr",
       "text": [
        "poppy     : INFO      Propagating wavelength = 1.89924e-06 meters\n"
       ]
      },
      {
       "output_type": "stream",
       "stream": "stderr",
       "text": [
        "poppy     : INFO      Propagating wavelength = 1.92143e-06 meters\n"
       ]
      },
      {
       "output_type": "stream",
       "stream": "stderr",
       "text": [
        "poppy     : INFO      Propagating wavelength = 1.94362e-06 meters\n"
       ]
      },
      {
       "output_type": "stream",
       "stream": "stderr",
       "text": [
        "poppy     : INFO      Propagating wavelength = 1.96581e-06 meters\n"
       ]
      },
      {
       "output_type": "stream",
       "stream": "stderr",
       "text": [
        "poppy     : INFO      Propagating wavelength = 1.988e-06 meters\n"
       ]
      },
      {
       "output_type": "stream",
       "stream": "stderr",
       "text": [
        "poppy     : INFO      Propagating wavelength = 2.01019e-06 meters\n"
       ]
      },
      {
       "output_type": "stream",
       "stream": "stderr",
       "text": [
        "poppy     : INFO      Propagating wavelength = 2.03238e-06 meters\n"
       ]
      },
      {
       "output_type": "stream",
       "stream": "stderr",
       "text": [
        "poppy     : INFO      Propagating wavelength = 2.05457e-06 meters\n"
       ]
      },
      {
       "output_type": "stream",
       "stream": "stderr",
       "text": [
        "poppy     : INFO      Propagating wavelength = 2.07676e-06 meters\n"
       ]
      },
      {
       "output_type": "stream",
       "stream": "stderr",
       "text": [
        "poppy     : INFO      Propagating wavelength = 2.09895e-06 meters\n"
       ]
      },
      {
       "output_type": "stream",
       "stream": "stderr",
       "text": [
        "poppy     : INFO      Propagating wavelength = 2.12114e-06 meters\n"
       ]
      },
      {
       "output_type": "stream",
       "stream": "stderr",
       "text": [
        "poppy     : INFO      Propagating wavelength = 2.14333e-06 meters\n"
       ]
      },
      {
       "output_type": "stream",
       "stream": "stderr",
       "text": [
        "poppy     : INFO      Propagating wavelength = 2.16552e-06 meters\n"
       ]
      },
      {
       "output_type": "stream",
       "stream": "stderr",
       "text": [
        "poppy     : INFO      Propagating wavelength = 2.18771e-06 meters\n"
       ]
      },
      {
       "output_type": "stream",
       "stream": "stderr",
       "text": [
        "poppy     : INFO      Propagating wavelength = 2.2099e-06 meters\n"
       ]
      },
      {
       "output_type": "stream",
       "stream": "stderr",
       "text": [
        "poppy     : INFO       Calculation completed in 74.852 s\n"
       ]
      },
      {
       "output_type": "stream",
       "stream": "stderr",
       "text": [
        "poppy     : INFO     PSF Calculation completed.\n"
       ]
      },
      {
       "output_type": "stream",
       "stream": "stderr",
       "text": [
        "poppy     : INFO      Downsampling to detector pixel scale.\n"
       ]
      }
     ],
     "prompt_number": 5
    },
    {
     "cell_type": "code",
     "collapsed": false,
     "input": [
      "plt.figure(figsize=(10,10))\n",
      "webbpsf.display_PSF(psf)\n",
      "plt.savefig(\"./NIRCam_example_G0V_coronograph.pdf\")"
     ],
     "language": "python",
     "metadata": {},
     "outputs": [],
     "prompt_number": 6
    },
    {
     "cell_type": "code",
     "collapsed": false,
     "input": [
      "psf.writeto(\"./NIRCam_example_G0V_coronograph.fits\")"
     ],
     "language": "python",
     "metadata": {},
     "outputs": [],
     "prompt_number": 10
    },
    {
     "cell_type": "code",
     "collapsed": false,
     "input": [],
     "language": "python",
     "metadata": {},
     "outputs": []
    }
   ],
   "metadata": {}
  }
 ]
}